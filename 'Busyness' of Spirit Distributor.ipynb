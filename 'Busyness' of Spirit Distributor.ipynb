{
 "cells": [
  {
   "cell_type": "code",
   "execution_count": 1,
   "metadata": {
    "ExecuteTime": {
     "end_time": "2022-06-15T16:27:01.179847Z",
     "start_time": "2022-06-15T16:27:00.402826Z"
    }
   },
   "outputs": [],
   "source": [
    "import numpy as np \n",
    "import matplotlib.pyplot as plt "
   ]
  },
  {
   "cell_type": "markdown",
   "metadata": {},
   "source": [
    "# Project Idea\n",
    "This project is at a friends request who is a Liquor Distributor.\n",
    "\n",
    "He distributes to two diffrent categories of customers: Liquor Stores and Restaurants. Each have a fudementally different rate of calling in for a restock. \n",
    "\n",
    "We wanted to know how, how many calls could he expect a day and what is the distibution of calls per day. "
   ]
  },
  {
   "cell_type": "code",
   "execution_count": 2,
   "metadata": {
    "ExecuteTime": {
     "end_time": "2022-06-15T16:27:01.263052Z",
     "start_time": "2022-06-15T16:27:01.216729Z"
    }
   },
   "outputs": [],
   "source": [
    "#number of liquor stores customers \n",
    "n = 70\n",
    "#number of resturaunts customers \n",
    "m = 25\n",
    "\n",
    "#follows array(liquor, resturaunts)\n",
    "N = np.array([n,m])\n",
    "\n",
    "#total customers\n",
    "T = np.sum(N)\n",
    "\n",
    "#weeks on average until call for service\n",
    "weeks = np.array([2,6])\n",
    "prob = 1/(7*weeks)\n"
   ]
  },
  {
   "cell_type": "markdown",
   "metadata": {},
   "source": [
    "## Method 1: Simulation "
   ]
  },
  {
   "cell_type": "code",
   "execution_count": 3,
   "metadata": {
    "ExecuteTime": {
     "end_time": "2022-06-15T16:27:01.360386Z",
     "start_time": "2022-06-15T16:27:01.289383Z"
    }
   },
   "outputs": [],
   "source": [
    "#one simulation\n",
    "liquor_one = np.sum(np.random.rand(n)<prob[0])\n",
    "restur_one = np.sum(np.random.rand(m)<prob[1])\n",
    "busyness_one = liquor_one + restur_one"
   ]
  },
  {
   "cell_type": "code",
   "execution_count": 4,
   "metadata": {
    "ExecuteTime": {
     "end_time": "2022-06-15T16:28:01.255362Z",
     "start_time": "2022-06-15T16:27:01.597900Z"
    }
   },
   "outputs": [],
   "source": [
    "# k many days of simulation\n",
    "k = 10000000\n",
    "Service_req = np.zeros((k,2)) \n",
    "Service_req[:,0] = np.sum(np.random.rand(k,n)<prob[0], axis = 1)\n",
    "Service_req[:,1] = np.sum(np.random.rand(k,m)<prob[1], axis = 1)\n",
    "Busyness = np.sum(Service_req, axis = 1)"
   ]
  },
  {
   "cell_type": "code",
   "execution_count": 5,
   "metadata": {
    "ExecuteTime": {
     "end_time": "2022-06-15T16:28:02.183843Z",
     "start_time": "2022-06-15T16:28:01.357920Z"
    }
   },
   "outputs": [],
   "source": [
    "num, prevalance = np.unique(Busyness, return_counts = True)"
   ]
  },
  {
   "cell_type": "code",
   "execution_count": 6,
   "metadata": {
    "ExecuteTime": {
     "end_time": "2022-06-15T16:28:02.246047Z",
     "start_time": "2022-06-15T16:28:02.225148Z"
    }
   },
   "outputs": [
    {
     "name": "stdout",
     "output_type": "stream",
     "text": [
      "10000000\n"
     ]
    }
   ],
   "source": [
    "S = np.sum(prevalance)\n",
    "print(S)"
   ]
  },
  {
   "cell_type": "markdown",
   "metadata": {},
   "source": [
    "Percentages of each possibility: (left out much higher but unlikley possibilities)"
   ]
  },
  {
   "cell_type": "code",
   "execution_count": 7,
   "metadata": {
    "ExecuteTime": {
     "end_time": "2022-06-15T16:28:02.325035Z",
     "start_time": "2022-06-15T16:28:02.287673Z"
    }
   },
   "outputs": [
    {
     "data": {
      "text/plain": [
       "array([ 0.,  1.,  2.,  3.,  4.,  5.,  6.,  7.,  8.,  9., 10., 11., 12.,\n",
       "       13., 14., 15., 16., 17., 18., 19., 20., 21.])"
      ]
     },
     "execution_count": 7,
     "metadata": {},
     "output_type": "execute_result"
    }
   ],
   "source": [
    "num"
   ]
  },
  {
   "cell_type": "code",
   "execution_count": 8,
   "metadata": {
    "ExecuteTime": {
     "end_time": "2022-06-15T16:28:02.372939Z",
     "start_time": "2022-06-15T16:28:02.352043Z"
    }
   },
   "outputs": [
    {
     "data": {
      "text/plain": [
       "array([ 0.30397,  1.83244,  5.44207, 10.56829, 15.29855, 17.45482,\n",
       "       16.42018, 13.06903,  8.96209,  5.40907,  2.88378,  1.38794,\n",
       "        0.60308,  0.23797,  0.08613,  0.02889,  0.00851,  0.00246,\n",
       "        0.00053,  0.00017,  0.00002,  0.00001])"
      ]
     },
     "execution_count": 8,
     "metadata": {},
     "output_type": "execute_result"
    }
   ],
   "source": [
    "dist = (prevalance/k)*100\n",
    "np.set_printoptions(suppress=True)\n",
    "dist"
   ]
  },
  {
   "cell_type": "code",
   "execution_count": 9,
   "metadata": {
    "ExecuteTime": {
     "end_time": "2022-06-15T16:28:02.412099Z",
     "start_time": "2022-06-15T16:28:02.399836Z"
    }
   },
   "outputs": [],
   "source": [
    "## plt.hist(Busyness, bins = T+1, density = True)\n",
    "##plt.show()"
   ]
  },
  {
   "cell_type": "code",
   "execution_count": 10,
   "metadata": {
    "ExecuteTime": {
     "end_time": "2022-06-15T16:28:03.428591Z",
     "start_time": "2022-06-15T16:28:02.446187Z"
    }
   },
   "outputs": [
    {
     "data": {
      "image/png": "[encoded data removed]",
      "text/plain": [
       "<Figure size 432x288 with 1 Axes>"
      ]
     },
     "metadata": {
      "needs_background": "light"
     },
     "output_type": "display_data"
    }
   ],
   "source": [
    "plt.scatter(num,dist)\n",
    "plt.show()"
   ]
  },
  {
   "cell_type": "code",
   "execution_count": 11,
   "metadata": {
    "ExecuteTime": {
     "end_time": "2022-06-15T16:28:03.475263Z",
     "start_time": "2022-06-15T16:28:03.462612Z"
    }
   },
   "outputs": [
    {
     "data": {
      "text/plain": [
       "5.595238095238095"
      ]
     },
     "execution_count": 11,
     "metadata": {},
     "output_type": "execute_result"
    }
   ],
   "source": [
    "np.dot(N,prob)"
   ]
  },
  {
   "cell_type": "code",
   "execution_count": 12,
   "metadata": {
    "ExecuteTime": {
     "end_time": "2022-06-15T16:28:03.507167Z",
     "start_time": "2022-06-15T16:28:03.497012Z"
    }
   },
   "outputs": [
    {
     "data": {
      "text/plain": [
       "5.5953863"
      ]
     },
     "execution_count": 12,
     "metadata": {},
     "output_type": "execute_result"
    }
   ],
   "source": [
    "np.dot(num, dist)/100"
   ]
  },
  {
   "cell_type": "code",
   "execution_count": 13,
   "metadata": {
    "ExecuteTime": {
     "end_time": "2022-06-15T16:28:03.546581Z",
     "start_time": "2022-06-15T16:28:03.534052Z"
    }
   },
   "outputs": [
    {
     "data": {
      "text/plain": [
       "array([0.73684211, 0.26315789])"
      ]
     },
     "execution_count": 13,
     "metadata": {},
     "output_type": "execute_result"
    }
   ],
   "source": [
    "weights  = N/T\n",
    "weights"
   ]
  },
  {
   "cell_type": "markdown",
   "metadata": {},
   "source": [
    "## Method 2: Analysis"
   ]
  },
  {
   "cell_type": "markdown",
   "metadata": {},
   "source": [
    "Alternate Approach, \n",
    "here Busyness is a sum of Liquor and Resturaunt service calls \"L\" and \"R\", Stochastic Variables:\n",
    "$$B = L + R$$\n",
    "$$\n",
    " 0 \\leq i \\leq 95, i \\in \\mathbb{N}$$\n",
    "$$\n",
    "P(i = B) = P(i = L + R) = \\sum_{k = 0} ^ i P(L = k)*P(R = i - k)\n",
    "$$\n",
    "$$\n",
    "P(B = i) = \\sum_{k = 0} ^ i \\binom{70}{k} (p_1)^k (q_1)^{70-k} \\binom{25}{i-k}(p_2)^{i-k}(q_2)^{25-(i-k)}\n",
    "$$"
   ]
  },
  {
   "cell_type": "markdown",
   "metadata": {},
   "source": [
    "## Comparison:\n",
    "As an example let's try $i = 5$ using our formula and compare it with our simulation results."
   ]
  },
  {
   "cell_type": "code",
   "execution_count": 14,
   "metadata": {
    "ExecuteTime": {
     "end_time": "2022-06-15T16:28:06.859502Z",
     "start_time": "2022-06-15T16:28:03.567753Z"
    }
   },
   "outputs": [],
   "source": [
    "import scipy.stats as sy"
   ]
  },
  {
   "cell_type": "code",
   "execution_count": 15,
   "metadata": {
    "ExecuteTime": {
     "end_time": "2022-06-15T16:28:07.005709Z",
     "start_time": "2022-06-15T16:28:06.937196Z"
    }
   },
   "outputs": [
    {
     "data": {
      "text/plain": [
       "0.17467250860559186"
      ]
     },
     "execution_count": 15,
     "metadata": {},
     "output_type": "execute_result"
    }
   ],
   "source": [
    "i = 5\n",
    "sum = 0\n",
    "for k in range(i+1):\n",
    "    add = sy.binom.pmf(k,70,prob[0])*sy.binom.pmf(i-k,25,prob[1])\n",
    "    sum = sum + add\n",
    "sum\n"
   ]
  },
  {
   "cell_type": "code",
   "execution_count": 16,
   "metadata": {
    "ExecuteTime": {
     "end_time": "2022-06-15T16:28:07.096616Z",
     "start_time": "2022-06-15T16:28:07.062687Z"
    }
   },
   "outputs": [
    {
     "data": {
      "text/plain": [
       "0.1745482"
      ]
     },
     "execution_count": 16,
     "metadata": {},
     "output_type": "execute_result"
    }
   ],
   "source": [
    "dist[i]/100"
   ]
  },
  {
   "cell_type": "code",
   "execution_count": 17,
   "metadata": {
    "ExecuteTime": {
     "end_time": "2022-06-15T16:28:07.197936Z",
     "start_time": "2022-06-15T16:28:07.188193Z"
    }
   },
   "outputs": [],
   "source": [
    "def prob_busy(i,p1,p2,n1,n2):\n",
    "    sum = 0\n",
    "    for k in range(i+1):\n",
    "        add = sy.binom.pmf(k,n1,p1)*sy.binom.pmf(i-k,n2,p2)\n",
    "        sum = sum + add\n",
    "    return sum"
   ]
  },
  {
   "cell_type": "code",
   "execution_count": 18,
   "metadata": {
    "ExecuteTime": {
     "end_time": "2022-06-15T16:28:07.244557Z",
     "start_time": "2022-06-15T16:28:07.217549Z"
    }
   },
   "outputs": [
    {
     "data": {
      "text/plain": [
       "0.02892171239965778"
      ]
     },
     "execution_count": 18,
     "metadata": {},
     "output_type": "execute_result"
    }
   ],
   "source": [
    "prob_busy(10,prob[0],prob[1],N[0],N[1])"
   ]
  },
  {
   "cell_type": "code",
   "execution_count": 19,
   "metadata": {
    "ExecuteTime": {
     "end_time": "2022-06-15T16:28:10.746382Z",
     "start_time": "2022-06-15T16:28:07.271912Z"
    }
   },
   "outputs": [
    {
     "data": {
      "text/plain": [
       "array([0.00305799, 0.01833074, 0.05428458, 0.10587841, 0.15299141,\n",
       "       0.17467251, 0.16411486, 0.13049967, 0.08963973, 0.05402513,\n",
       "       0.02892171, 0.01388936, 0.00603261, 0.00238588, 0.00086421,\n",
       "       0.00028811, 0.00008878, 0.00002538, 0.00000676, 0.00000168,\n",
       "       0.00000039, 0.00000009, 0.00000002, 0.        , 0.        ,\n",
       "       0.        , 0.        , 0.        , 0.        , 0.        ,\n",
       "       0.        , 0.        , 0.        , 0.        , 0.        ,\n",
       "       0.        , 0.        , 0.        , 0.        , 0.        ,\n",
       "       0.        , 0.        , 0.        , 0.        , 0.        ,\n",
       "       0.        , 0.        , 0.        , 0.        , 0.        ,\n",
       "       0.        , 0.        , 0.        , 0.        , 0.        ,\n",
       "       0.        , 0.        , 0.        , 0.        , 0.        ,\n",
       "       0.        , 0.        , 0.        , 0.        , 0.        ,\n",
       "       0.        , 0.        , 0.        , 0.        , 0.        ,\n",
       "       0.        , 0.        , 0.        , 0.        , 0.        ,\n",
       "       0.        , 0.        , 0.        , 0.        , 0.        ,\n",
       "       0.        , 0.        , 0.        , 0.        , 0.        ,\n",
       "       0.        , 0.        , 0.        , 0.        , 0.        ,\n",
       "       0.        , 0.        , 0.        , 0.        , 0.        ,\n",
       "       0.        ])"
      ]
     },
     "execution_count": 19,
     "metadata": {},
     "output_type": "execute_result"
    }
   ],
   "source": [
    "Dist_exp = np.zeros(T+1)\n",
    "for i in range(T+1):\n",
    "    Dist_exp[i] = prob_busy(i,prob[0],prob[1],N[0],N[1])\n",
    "    \n",
    "Dist_exp"
   ]
  },
  {
   "cell_type": "code",
   "execution_count": 20,
   "metadata": {
    "ExecuteTime": {
     "end_time": "2022-06-15T16:28:10.812601Z",
     "start_time": "2022-06-15T16:28:10.789904Z"
    }
   },
   "outputs": [
    {
     "data": {
      "text/plain": [
       "array([0.0030397, 0.0183244, 0.0544207, 0.1056829, 0.1529855, 0.1745482,\n",
       "       0.1642018, 0.1306903, 0.0896209, 0.0540907, 0.0288378, 0.0138794,\n",
       "       0.0060308, 0.0023797, 0.0008613, 0.0002889, 0.0000851, 0.0000246,\n",
       "       0.0000053, 0.0000017, 0.0000002, 0.0000001])"
      ]
     },
     "execution_count": 20,
     "metadata": {},
     "output_type": "execute_result"
    }
   ],
   "source": [
    "dist/100"
   ]
  },
  {
   "cell_type": "markdown",
   "metadata": {},
   "source": [
    "Now the both distrubutions:"
   ]
  },
  {
   "cell_type": "code",
   "execution_count": 21,
   "metadata": {
    "ExecuteTime": {
     "end_time": "2022-06-15T16:28:11.622832Z",
     "start_time": "2022-06-15T16:28:10.850071Z"
    }
   },
   "outputs": [
    {
     "data": {
      "image/png": "[encoded data removed]",
      "text/plain": [
       "<Figure size 432x288 with 1 Axes>"
      ]
     },
     "metadata": {
      "needs_background": "light"
     },
     "output_type": "display_data"
    }
   ],
   "source": [
    "plt.xticks(range(num.size+1))\n",
    "plt.scatter(num,Dist_exp[:num.size]*100)\n",
    "plt.scatter(num,dist)\n",
    "plt.show()"
   ]
  },
  {
   "cell_type": "code",
   "execution_count": null,
   "metadata": {},
   "outputs": [],
   "source": []
  }
 ],
 "metadata": {
  "kernelspec": {
   "display_name": "Python 3",
   "language": "python",
   "name": "python3"
  },
  "language_info": {
   "codemirror_mode": {
    "name": "ipython",
    "version": 3
   },
   "file_extension": ".py",
   "mimetype": "text/x-python",
   "name": "python",
   "nbconvert_exporter": "python",
   "pygments_lexer": "ipython3",
   "version": "3.8.5"
  },
  "varInspector": {
   "cols": {
    "lenName": 16,
    "lenType": 16,
    "lenVar": 40
   },
   "kernels_config": {
    "python": {
     "delete_cmd_postfix": "",
     "delete_cmd_prefix": "del ",
     "library": "var_list.py",
     "varRefreshCmd": "print(var_dic_list())"
    },
    "r": {
     "delete_cmd_postfix": ") ",
     "delete_cmd_prefix": "rm(",
     "library": "var_list.r",
     "varRefreshCmd": "cat(var_dic_list()) "
    }
   },
   "types_to_exclude": [
    "module",
    "function",
    "builtin_function_or_method",
    "instance",
    "_Feature"
   ],
   "window_display": false
  }
 },
 "nbformat": 4,
 "nbformat_minor": 4
}
